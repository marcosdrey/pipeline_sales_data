{
 "cells": [
  {
   "cell_type": "code",
   "execution_count": 2,
   "metadata": {},
   "outputs": [],
   "source": [
    "import os\n",
    "from dotenv import load_dotenv\n",
    "from pymongo.server_api import ServerApi\n",
    "from pymongo.mongo_client import MongoClient"
   ]
  },
  {
   "cell_type": "code",
   "execution_count": 3,
   "metadata": {},
   "outputs": [
    {
     "name": "stdout",
     "output_type": "stream",
     "text": [
      "Conectado no MongoDB!\n"
     ]
    }
   ],
   "source": [
    "load_dotenv()\n",
    "\n",
    "\n",
    "uri = os.getenv(\"MONGO_ATLAS_URL\")\n",
    "client = MongoClient(uri, server_api=ServerApi(\"1\"))\n",
    "\n",
    "try:\n",
    "    client.admin.command(\"ping\")\n",
    "    print(\"Conectado no MongoDB!\")\n",
    "except Exception as e:\n",
    "    print(e)"
   ]
  },
  {
   "cell_type": "code",
   "execution_count": 4,
   "metadata": {},
   "outputs": [],
   "source": [
    "db = client['db_sales']"
   ]
  },
  {
   "cell_type": "code",
   "execution_count": 5,
   "metadata": {},
   "outputs": [
    {
     "data": {
      "text/plain": [
       "['sales']"
      ]
     },
     "execution_count": 5,
     "metadata": {},
     "output_type": "execute_result"
    }
   ],
   "source": [
    "db.list_collection_names()"
   ]
  },
  {
   "cell_type": "code",
   "execution_count": 6,
   "metadata": {},
   "outputs": [],
   "source": [
    "collection = db['sales']"
   ]
  },
  {
   "cell_type": "code",
   "execution_count": 7,
   "metadata": {},
   "outputs": [
    {
     "data": {
      "text/plain": [
       "[{'_id': ObjectId('67b387e92a80135900d5002e'),\n",
       "  'ORDERNUMBER': '10107',\n",
       "  'QUANTITYORDERED': '30',\n",
       "  'PRICEEACH': '95.7',\n",
       "  'ORDERLINENUMBER': '2',\n",
       "  'SALES': '2871',\n",
       "  'ORDERDATE': '2/24/2003 0:00',\n",
       "  'STATUS': 'Shipped',\n",
       "  'QTR_ID': '1',\n",
       "  'MONTH_ID': '2',\n",
       "  'YEAR_ID': '2003',\n",
       "  'PRODUCTLINE': 'Motorcycles',\n",
       "  'MSRP': '95',\n",
       "  'PRODUCTCODE': 'S10_1678',\n",
       "  'CUSTOMERNAME': 'Land of Toys Inc.',\n",
       "  'PHONE': '2125557818',\n",
       "  'ADDRESSLINE1': '897 Long Airport Avenue',\n",
       "  'ADDRESSLINE2': '',\n",
       "  'CITY': 'NYC',\n",
       "  'STATE': 'NY',\n",
       "  'POSTALCODE': '10022',\n",
       "  'COUNTRY': 'USA',\n",
       "  'TERRITORY': 'NA',\n",
       "  'CONTACTLASTNAME': 'Yu',\n",
       "  'CONTACTFIRSTNAME': 'Kwai',\n",
       "  'DEALSIZE': 'Small'},\n",
       " {'_id': ObjectId('67b387e92a80135900d5002f'),\n",
       "  'ORDERNUMBER': '10121',\n",
       "  'QUANTITYORDERED': '34',\n",
       "  'PRICEEACH': '81.35',\n",
       "  'ORDERLINENUMBER': '5',\n",
       "  'SALES': '2765.9',\n",
       "  'ORDERDATE': '5/7/2003 0:00',\n",
       "  'STATUS': 'Shipped',\n",
       "  'QTR_ID': '2',\n",
       "  'MONTH_ID': '5',\n",
       "  'YEAR_ID': '2003',\n",
       "  'PRODUCTLINE': 'Motorcycles',\n",
       "  'MSRP': '95',\n",
       "  'PRODUCTCODE': 'S10_1678',\n",
       "  'CUSTOMERNAME': 'Reims Collectables',\n",
       "  'PHONE': '26.47.1555',\n",
       "  'ADDRESSLINE1': \"59 rue de l'Abbaye\",\n",
       "  'ADDRESSLINE2': '',\n",
       "  'CITY': 'Reims',\n",
       "  'STATE': '',\n",
       "  'POSTALCODE': '51100',\n",
       "  'COUNTRY': 'France',\n",
       "  'TERRITORY': 'EMEA',\n",
       "  'CONTACTLASTNAME': 'Henriot',\n",
       "  'CONTACTFIRSTNAME': 'Paul',\n",
       "  'DEALSIZE': 'Small'},\n",
       " {'_id': ObjectId('67b387e92a80135900d50030'),\n",
       "  'ORDERNUMBER': '10134',\n",
       "  'QUANTITYORDERED': '41',\n",
       "  'PRICEEACH': '94.74',\n",
       "  'ORDERLINENUMBER': '2',\n",
       "  'SALES': '3884.34',\n",
       "  'ORDERDATE': '7/1/2003 0:00',\n",
       "  'STATUS': 'Shipped',\n",
       "  'QTR_ID': '3',\n",
       "  'MONTH_ID': '7',\n",
       "  'YEAR_ID': '2003',\n",
       "  'PRODUCTLINE': 'Motorcycles',\n",
       "  'MSRP': '95',\n",
       "  'PRODUCTCODE': 'S10_1678',\n",
       "  'CUSTOMERNAME': 'Lyon Souveniers',\n",
       "  'PHONE': '+33 1 46 62 7555',\n",
       "  'ADDRESSLINE1': '27 rue du Colonel Pierre Avia',\n",
       "  'ADDRESSLINE2': '',\n",
       "  'CITY': 'Paris',\n",
       "  'STATE': '',\n",
       "  'POSTALCODE': '75508',\n",
       "  'COUNTRY': 'France',\n",
       "  'TERRITORY': 'EMEA',\n",
       "  'CONTACTLASTNAME': 'Da Cunha',\n",
       "  'CONTACTFIRSTNAME': 'Daniel',\n",
       "  'DEALSIZE': 'Medium'},\n",
       " {'_id': ObjectId('67b387e92a80135900d50031'),\n",
       "  'ORDERNUMBER': '10145',\n",
       "  'QUANTITYORDERED': '45',\n",
       "  'PRICEEACH': '83.26',\n",
       "  'ORDERLINENUMBER': '6',\n",
       "  'SALES': '3746.7',\n",
       "  'ORDERDATE': '8/25/2003 0:00',\n",
       "  'STATUS': 'Shipped',\n",
       "  'QTR_ID': '3',\n",
       "  'MONTH_ID': '8',\n",
       "  'YEAR_ID': '2003',\n",
       "  'PRODUCTLINE': 'Motorcycles',\n",
       "  'MSRP': '95',\n",
       "  'PRODUCTCODE': 'S10_1678',\n",
       "  'CUSTOMERNAME': 'Toys4GrownUps.com',\n",
       "  'PHONE': '6265557265',\n",
       "  'ADDRESSLINE1': '78934 Hillside Dr.',\n",
       "  'ADDRESSLINE2': '',\n",
       "  'CITY': 'Pasadena',\n",
       "  'STATE': 'CA',\n",
       "  'POSTALCODE': '90003',\n",
       "  'COUNTRY': 'USA',\n",
       "  'TERRITORY': 'NA',\n",
       "  'CONTACTLASTNAME': 'Young',\n",
       "  'CONTACTFIRSTNAME': 'Julie',\n",
       "  'DEALSIZE': 'Medium'},\n",
       " {'_id': ObjectId('67b387e92a80135900d50032'),\n",
       "  'ORDERNUMBER': '10159',\n",
       "  'QUANTITYORDERED': '49',\n",
       "  'PRICEEACH': '100',\n",
       "  'ORDERLINENUMBER': '14',\n",
       "  'SALES': '5205.27',\n",
       "  'ORDERDATE': '10/10/2003 0:00',\n",
       "  'STATUS': 'Shipped',\n",
       "  'QTR_ID': '4',\n",
       "  'MONTH_ID': '10',\n",
       "  'YEAR_ID': '2003',\n",
       "  'PRODUCTLINE': 'Motorcycles',\n",
       "  'MSRP': '95',\n",
       "  'PRODUCTCODE': 'S10_1678',\n",
       "  'CUSTOMERNAME': 'Corporate Gift Ideas Co.',\n",
       "  'PHONE': '6505551386',\n",
       "  'ADDRESSLINE1': '7734 Strong St.',\n",
       "  'ADDRESSLINE2': '',\n",
       "  'CITY': 'San Francisco',\n",
       "  'STATE': 'CA',\n",
       "  'POSTALCODE': '',\n",
       "  'COUNTRY': 'USA',\n",
       "  'TERRITORY': 'NA',\n",
       "  'CONTACTLASTNAME': 'Brown',\n",
       "  'CONTACTFIRSTNAME': 'Julie',\n",
       "  'DEALSIZE': 'Medium'}]"
      ]
     },
     "execution_count": 7,
     "metadata": {},
     "output_type": "execute_result"
    }
   ],
   "source": [
    "list(collection.find({}).limit(5))"
   ]
  },
  {
   "cell_type": "code",
   "execution_count": 11,
   "metadata": {},
   "outputs": [],
   "source": [
    "from pyspark.sql import SparkSession\n",
    "\n",
    "\n",
    "spark = SparkSession.builder \\\n",
    "    .appName(\"Sales Data Spark\") \\\n",
    "    .config(\"spark.mongodb.read.connection.uri\", uri) \\\n",
    "    .config(\"spark.mongodb.write.connection.uri\", uri) \\\n",
    "    .config(\"spark.jars.packages\", \"org.mongodb.spark:mongo-spark-connector:10.0.3\") \\\n",
    "    .getOrCreate()"
   ]
  },
  {
   "cell_type": "code",
   "execution_count": 12,
   "metadata": {},
   "outputs": [],
   "source": [
    "df = (spark.read.format(\"mongodb\").option(\"database\", \"db_sales\").option(\"collection\", \"sales\").load())"
   ]
  },
  {
   "cell_type": "code",
   "execution_count": 13,
   "metadata": {},
   "outputs": [
    {
     "name": "stdout",
     "output_type": "stream",
     "text": [
      "root\n",
      " |-- ADDRESSLINE1: string (nullable = true)\n",
      " |-- ADDRESSLINE2: string (nullable = true)\n",
      " |-- CITY: string (nullable = true)\n",
      " |-- CONTACTFIRSTNAME: string (nullable = true)\n",
      " |-- CONTACTLASTNAME: string (nullable = true)\n",
      " |-- COUNTRY: string (nullable = true)\n",
      " |-- CUSTOMERNAME: string (nullable = true)\n",
      " |-- DEALSIZE: string (nullable = true)\n",
      " |-- MONTH_ID: string (nullable = true)\n",
      " |-- MSRP: string (nullable = true)\n",
      " |-- ORDERDATE: string (nullable = true)\n",
      " |-- ORDERLINENUMBER: string (nullable = true)\n",
      " |-- ORDERNUMBER: string (nullable = true)\n",
      " |-- PHONE: string (nullable = true)\n",
      " |-- POSTALCODE: string (nullable = true)\n",
      " |-- PRICEEACH: string (nullable = true)\n",
      " |-- PRODUCTCODE: string (nullable = true)\n",
      " |-- PRODUCTLINE: string (nullable = true)\n",
      " |-- QTR_ID: string (nullable = true)\n",
      " |-- QUANTITYORDERED: string (nullable = true)\n",
      " |-- SALES: string (nullable = true)\n",
      " |-- STATE: string (nullable = true)\n",
      " |-- STATUS: string (nullable = true)\n",
      " |-- TERRITORY: string (nullable = true)\n",
      " |-- YEAR_ID: string (nullable = true)\n",
      " |-- _id: string (nullable = true)\n",
      "\n"
     ]
    }
   ],
   "source": [
    "df.printSchema()"
   ]
  },
  {
   "cell_type": "code",
   "execution_count": 14,
   "metadata": {},
   "outputs": [
    {
     "name": "stderr",
     "output_type": "stream",
     "text": [
      "25/02/17 19:08:42 WARN package: Truncated the string representation of a plan since it was too large. This behavior can be adjusted by setting 'spark.sql.debug.maxToStringFields'.\n",
      "[Stage 0:>                                                          (0 + 1) / 1]\r"
     ]
    },
    {
     "name": "stdout",
     "output_type": "stream",
     "text": [
      "+--------------------+------------+-------------+----------------+---------------+-------+--------------------+--------+--------+----+---------------+---------------+-----------+----------------+----------+---------+-----------+-----------+------+---------------+-------+-----+-------+---------+-------+--------------------+\n",
      "|        ADDRESSLINE1|ADDRESSLINE2|         CITY|CONTACTFIRSTNAME|CONTACTLASTNAME|COUNTRY|        CUSTOMERNAME|DEALSIZE|MONTH_ID|MSRP|      ORDERDATE|ORDERLINENUMBER|ORDERNUMBER|           PHONE|POSTALCODE|PRICEEACH|PRODUCTCODE|PRODUCTLINE|QTR_ID|QUANTITYORDERED|  SALES|STATE| STATUS|TERRITORY|YEAR_ID|                 _id|\n",
      "+--------------------+------------+-------------+----------------+---------------+-------+--------------------+--------+--------+----+---------------+---------------+-----------+----------------+----------+---------+-----------+-----------+------+---------------+-------+-----+-------+---------+-------+--------------------+\n",
      "|897 Long Airport ...|            |          NYC|            Kwai|             Yu|    USA|   Land of Toys Inc.|   Small|       2|  95| 2/24/2003 0:00|              2|      10107|      2125557818|     10022|     95.7|   S10_1678|Motorcycles|     1|             30|   2871|   NY|Shipped|       NA|   2003|67b387e92a8013590...|\n",
      "|  59 rue de l'Abbaye|            |        Reims|            Paul|        Henriot| France|  Reims Collectables|   Small|       5|  95|  5/7/2003 0:00|              5|      10121|      26.47.1555|     51100|    81.35|   S10_1678|Motorcycles|     2|             34| 2765.9|     |Shipped|     EMEA|   2003|67b387e92a8013590...|\n",
      "|27 rue du Colonel...|            |        Paris|          Daniel|       Da Cunha| France|     Lyon Souveniers|  Medium|       7|  95|  7/1/2003 0:00|              2|      10134|+33 1 46 62 7555|     75508|    94.74|   S10_1678|Motorcycles|     3|             41|3884.34|     |Shipped|     EMEA|   2003|67b387e92a8013590...|\n",
      "|  78934 Hillside Dr.|            |     Pasadena|           Julie|          Young|    USA|   Toys4GrownUps.com|  Medium|       8|  95| 8/25/2003 0:00|              6|      10145|      6265557265|     90003|    83.26|   S10_1678|Motorcycles|     3|             45| 3746.7|   CA|Shipped|       NA|   2003|67b387e92a8013590...|\n",
      "|     7734 Strong St.|            |San Francisco|           Julie|          Brown|    USA|Corporate Gift Id...|  Medium|      10|  95|10/10/2003 0:00|             14|      10159|      6505551386|          |      100|   S10_1678|Motorcycles|     4|             49|5205.27|   CA|Shipped|       NA|   2003|67b387e92a8013590...|\n",
      "+--------------------+------------+-------------+----------------+---------------+-------+--------------------+--------+--------+----+---------------+---------------+-----------+----------------+----------+---------+-----------+-----------+------+---------------+-------+-----+-------+---------+-------+--------------------+\n",
      "only showing top 5 rows\n",
      "\n"
     ]
    },
    {
     "name": "stderr",
     "output_type": "stream",
     "text": [
      "                                                                                \r"
     ]
    }
   ],
   "source": [
    "df.show(5)"
   ]
  },
  {
   "cell_type": "code",
   "execution_count": null,
   "metadata": {},
   "outputs": [
    {
     "name": "stdout",
     "output_type": "stream",
     "text": [
      "+----------------+\n",
      "|     PRODUCTLINE|\n",
      "+----------------+\n",
      "|     Motorcycles|\n",
      "|    Classic Cars|\n",
      "|Trucks and Buses|\n",
      "|    Vintage Cars|\n",
      "|          Planes|\n",
      "|           Ships|\n",
      "|          Trains|\n",
      "+----------------+\n",
      "\n"
     ]
    }
   ],
   "source": [
    "df.select('PRODUCTLINE').distinct().show()"
   ]
  },
  {
   "cell_type": "code",
   "execution_count": 26,
   "metadata": {},
   "outputs": [
    {
     "name": "stdout",
     "output_type": "stream",
     "text": [
      "+----------------+-----+-----------+\n",
      "|     PRODUCTLINE|Count|Total Sales|\n",
      "+----------------+-----+-----------+\n",
      "|    Classic Cars|  967|    3919615|\n",
      "|    Vintage Cars|  607|    1903150|\n",
      "|     Motorcycles|  331|    1166388|\n",
      "|Trucks and Buses|  301|    1127789|\n",
      "|          Planes|  306|     975003|\n",
      "|           Ships|  234|     714437|\n",
      "|          Trains|   77|     226243|\n",
      "+----------------+-----+-----------+\n",
      "\n"
     ]
    },
    {
     "name": "stderr",
     "output_type": "stream",
     "text": [
      "                                                                                \r"
     ]
    }
   ],
   "source": [
    "import pyspark.sql.functions as f\n",
    "import pyspark.sql.types as t\n",
    "\n",
    "\n",
    "df_productlines = df.select('PRODUCTLINE', 'SALES').groupBy('PRODUCTLINE').agg(\n",
    "    f.count('PRODUCTLINE').alias('Count'),\n",
    "    f.sum('SALES').cast(t.IntegerType()).alias('Total Sales')\n",
    ").orderBy('Total Sales', ascending=False)\n",
    "df_productlines.show()"
   ]
  },
  {
   "cell_type": "code",
   "execution_count": 31,
   "metadata": {},
   "outputs": [
    {
     "name": "stdout",
     "output_type": "stream",
     "text": [
      "+--------------------+------------+----+----------------+---------------+-------+-----------------+--------+--------+----+--------------+---------------+-----------+----------+----------+---------+-----------+-----------+------+---------------+-----+-----+-------+---------+-------+--------------------+\n",
      "|        ADDRESSLINE1|ADDRESSLINE2|CITY|CONTACTFIRSTNAME|CONTACTLASTNAME|COUNTRY|     CUSTOMERNAME|DEALSIZE|MONTH_ID|MSRP|     ORDERDATE|ORDERLINENUMBER|ORDERNUMBER|     PHONE|POSTALCODE|PRICEEACH|PRODUCTCODE|PRODUCTLINE|QTR_ID|QUANTITYORDERED|SALES|STATE| STATUS|TERRITORY|YEAR_ID|                 _id|\n",
      "+--------------------+------------+----+----------------+---------------+-------+-----------------+--------+--------+----+--------------+---------------+-----------+----------+----------+---------+-----------+-----------+------+---------------+-----+-----+-------+---------+-------+--------------------+\n",
      "|897 Long Airport ...|            | NYC|            Kwai|             Yu|    USA|Land of Toys Inc.|   Small|       2|  95|2/24/2003 0:00|              2|      10107|2125557818|     10022|     95.7|   S10_1678|Motorcycles|     1|             30| 2871|   NY|Shipped|       NA|   2003|67b387e92a8013590...|\n",
      "+--------------------+------------+----+----------------+---------------+-------+-----------------+--------+--------+----+--------------+---------------+-----------+----------+----------+---------+-----------+-----------+------+---------------+-----+-----+-------+---------+-------+--------------------+\n",
      "only showing top 1 row\n",
      "\n"
     ]
    }
   ],
   "source": [
    "df.show(1)"
   ]
  },
  {
   "cell_type": "code",
   "execution_count": 34,
   "metadata": {},
   "outputs": [
    {
     "name": "stdout",
     "output_type": "stream",
     "text": [
      "+-----------+\n",
      "|    COUNTRY|\n",
      "+-----------+\n",
      "|     France|\n",
      "|     Norway|\n",
      "|  Australia|\n",
      "|    Finland|\n",
      "|    Austria|\n",
      "|         UK|\n",
      "|      Spain|\n",
      "|     Sweden|\n",
      "|  Singapore|\n",
      "|     Canada|\n",
      "|      Japan|\n",
      "|      Italy|\n",
      "|    Denmark|\n",
      "|    Belgium|\n",
      "|Philippines|\n",
      "|    Germany|\n",
      "|Switzerland|\n",
      "|    Ireland|\n",
      "+-----------+\n",
      "\n"
     ]
    }
   ],
   "source": [
    "df.select('COUNTRY').where(f.length(df.COUNTRY) != 3).distinct().show()"
   ]
  },
  {
   "cell_type": "code",
   "execution_count": 38,
   "metadata": {},
   "outputs": [
    {
     "name": "stdout",
     "output_type": "stream",
     "text": [
      "+-------+\n",
      "|YEAR_ID|\n",
      "+-------+\n",
      "|   2003|\n",
      "|   2004|\n",
      "|   2005|\n",
      "+-------+\n",
      "\n"
     ]
    },
    {
     "name": "stderr",
     "output_type": "stream",
     "text": [
      "                                                                                \r"
     ]
    }
   ],
   "source": [
    "df.select('YEAR_ID').distinct().show()"
   ]
  },
  {
   "cell_type": "code",
   "execution_count": 58,
   "metadata": {},
   "outputs": [
    {
     "name": "stderr",
     "output_type": "stream",
     "text": [
      "[Stage 31:>                                                         (0 + 1) / 1]\r"
     ]
    },
    {
     "name": "stdout",
     "output_type": "stream",
     "text": [
      "+-----------------+------------+----------+----------------+---------------+-------+--------------------+--------+--------+----+-------------------+---------------+-----------+----------+----------+---------+-----------+-----------+------+---------------+-------+-----+-------+---------+-------+--------------------+\n",
      "|     ADDRESSLINE1|ADDRESSLINE2|      CITY|CONTACTFIRSTNAME|CONTACTLASTNAME|COUNTRY|        CUSTOMERNAME|DEALSIZE|MONTH_ID|MSRP|          ORDERDATE|ORDERLINENUMBER|ORDERNUMBER|     PHONE|POSTALCODE|PRICEEACH|PRODUCTCODE|PRODUCTLINE|QTR_ID|QUANTITYORDERED|  SALES|STATE| STATUS|TERRITORY|YEAR_ID|                 _id|\n",
      "+-----------------+------------+----------+----------------+---------------+-------+--------------------+--------+--------+----+-------------------+---------------+-----------+----------+----------+---------+-----------+-----------+------+---------------+-------+-----+-------+---------+-------+--------------------+\n",
      "| 7586 Pompton St.|            | Allentown|           Kyung|             Yu|    USA|Diecast Classics ...|  Medium|      11|  95|2004-11-02 01:00:00|              1|      10318|2155551555|     70267|    94.74|   S10_1678|Motorcycles|     4|             46|4358.04|   PA|Shipped|       NA|   2004|67b387e92a8013590...|\n",
      "| 7586 Pompton St.|            | Allentown|           Kyung|             Yu|    USA|Diecast Classics ...|  Medium|      11| 118|2004-11-02 01:00:00|              4|      10318|2155551555|     70267|      100|   S10_2016|Motorcycles|     4|             45| 5566.5|   PA|Shipped|       NA|   2004|67b387e92a8013590...|\n",
      "| 7586 Pompton St.|            | Allentown|           Kyung|             Yu|    USA|Diecast Classics ...|   Large|      11| 193|2004-11-02 01:00:00|              3|      10318|2155551555|     70267|      100|   S10_4698|Motorcycles|     4|             37|7667.14|   PA|Shipped|       NA|   2004|67b387e92a8013590...|\n",
      "| 7586 Pompton St.|            | Allentown|           Kyung|             Yu|    USA|Diecast Classics ...|  Medium|      11|  84|2004-11-02 01:00:00|              9|      10318|2155551555|     70267|      100|   S18_2581|     Planes|     4|             31|3116.43|   PA|Shipped|       NA|   2004|67b387e92a8013590...|\n",
      "| 7586 Pompton St.|            | Allentown|           Kyung|             Yu|    USA|Diecast Classics ...|   Small|      11|  60|2004-11-02 01:00:00|              5|      10318|2155551555|     70267|     52.7|   S18_2625|Motorcycles|     4|             42| 2213.4|   PA|Shipped|       NA|   2004|67b387e92a8013590...|\n",
      "| 7586 Pompton St.|            | Allentown|           Kyung|             Yu|    USA|Diecast Classics ...|  Medium|      11| 112|2004-11-02 01:00:00|              2|      10318|2155551555|     70267|      100|   S24_1578|Motorcycles|     4|             48|6437.28|   PA|Shipped|       NA|   2004|67b387e92a8013590...|\n",
      "| 7586 Pompton St.|            | Allentown|           Kyung|             Yu|    USA|Diecast Classics ...|   Small|      11|  76|2004-11-02 01:00:00|              6|      10318|2155551555|     70267|    86.83|   S24_2000|Motorcycles|     4|             26|2257.58|   PA|Shipped|       NA|   2004|67b387e92a8013590...|\n",
      "|9408 Furth Circle|            |Burlingame|            Juri|         Hirano|    USA|Technics Stores Inc.|   Small|      11|  72|2004-11-02 01:00:00|              1|      10317|6505556809|     94217|    83.32|   S24_4278|     Planes|     4|             35| 2916.2|   CA|Shipped|       NA|   2004|67b387e92a8013590...|\n",
      "| 7586 Pompton St.|            | Allentown|           Kyung|             Yu|    USA|Diecast Classics ...|  Medium|      11|  99|2004-11-02 01:00:00|              7|      10318|2155551555|     70267|      100|   S32_1374|Motorcycles|     4|             47|5305.36|   PA|Shipped|       NA|   2004|67b387e92a8013590...|\n",
      "| 7586 Pompton St.|            | Allentown|           Kyung|             Yu|    USA|Diecast Classics ...|   Large|      11| 118|2004-11-02 01:00:00|              8|      10318|2155551555|     70267|      100|  S700_2834|     Planes|     4|             50|   7119|   PA|Shipped|       NA|   2004|67b387e92a8013590...|\n",
      "+-----------------+------------+----------+----------------+---------------+-------+--------------------+--------+--------+----+-------------------+---------------+-----------+----------+----------+---------+-----------+-----------+------+---------------+-------+-----+-------+---------+-------+--------------------+\n",
      "\n"
     ]
    },
    {
     "name": "stderr",
     "output_type": "stream",
     "text": [
      "                                                                                \r"
     ]
    }
   ],
   "source": [
    "df_filters = (f.hour('ORDERDATE') != 0) | (f.minute('ORDERDATE') != 0) | (f.second('ORDERDATE') != 0)\n",
    "\n",
    "df.withColumn(\n",
    "    'ORDERDATE',\n",
    "    f.to_timestamp('ORDERDATE', 'M/d/yyyy H:m')\n",
    ").where(df_filters).show()"
   ]
  },
  {
   "cell_type": "code",
   "execution_count": 59,
   "metadata": {},
   "outputs": [
    {
     "name": "stdout",
     "output_type": "stream",
     "text": [
      "+--------------------+------------+-------------+----------------+---------------+-------+--------------------+--------+--------+----+----------+---------------+-----------+----------------+----------+---------+-----------+-----------+------+---------------+-------+-----+-------+---------+-------+--------------------+\n",
      "|        ADDRESSLINE1|ADDRESSLINE2|         CITY|CONTACTFIRSTNAME|CONTACTLASTNAME|COUNTRY|        CUSTOMERNAME|DEALSIZE|MONTH_ID|MSRP| ORDERDATE|ORDERLINENUMBER|ORDERNUMBER|           PHONE|POSTALCODE|PRICEEACH|PRODUCTCODE|PRODUCTLINE|QTR_ID|QUANTITYORDERED|  SALES|STATE| STATUS|TERRITORY|YEAR_ID|                 _id|\n",
      "+--------------------+------------+-------------+----------------+---------------+-------+--------------------+--------+--------+----+----------+---------------+-----------+----------------+----------+---------+-----------+-----------+------+---------------+-------+-----+-------+---------+-------+--------------------+\n",
      "|897 Long Airport ...|            |          NYC|            Kwai|             Yu|    USA|   Land of Toys Inc.|   Small|       2|  95|2003-02-24|              2|      10107|      2125557818|     10022|     95.7|   S10_1678|Motorcycles|     1|             30| 2871.0|   NY|Shipped|       NA|   2003|67b387e92a8013590...|\n",
      "|  59 rue de l'Abbaye|            |        Reims|            Paul|        Henriot| France|  Reims Collectables|   Small|       5|  95|2003-05-07|              5|      10121|      26.47.1555|     51100|    81.35|   S10_1678|Motorcycles|     2|             34| 2765.9|     |Shipped|     EMEA|   2003|67b387e92a8013590...|\n",
      "|27 rue du Colonel...|            |        Paris|          Daniel|       Da Cunha| France|     Lyon Souveniers|  Medium|       7|  95|2003-07-01|              2|      10134|+33 1 46 62 7555|     75508|    94.74|   S10_1678|Motorcycles|     3|             41|3884.34|     |Shipped|     EMEA|   2003|67b387e92a8013590...|\n",
      "|  78934 Hillside Dr.|            |     Pasadena|           Julie|          Young|    USA|   Toys4GrownUps.com|  Medium|       8|  95|2003-08-25|              6|      10145|      6265557265|     90003|    83.26|   S10_1678|Motorcycles|     3|             45| 3746.7|   CA|Shipped|       NA|   2003|67b387e92a8013590...|\n",
      "|     7734 Strong St.|            |San Francisco|           Julie|          Brown|    USA|Corporate Gift Id...|  Medium|      10|  95|2003-10-10|             14|      10159|      6505551386|      null|    100.0|   S10_1678|Motorcycles|     4|             49|5205.27|   CA|Shipped|       NA|   2003|67b387e92a8013590...|\n",
      "|   9408 Furth Circle|            |   Burlingame|            Juri|         Hirano|    USA|Technics Stores Inc.|  Medium|      10|  95|2003-10-28|              1|      10168|      6505556809|     94217|    96.66|   S10_1678|Motorcycles|     4|             36|3479.76|   CA|Shipped|       NA|   2003|67b387e92a8013590...|\n",
      "|184, chausse de T...|            |        Lille|         Martine|          Rance| France|Daedalus Designs ...|   Small|      11|  95|2003-11-11|              9|      10180|      20.16.1555|     59000|    86.13|   S10_1678|Motorcycles|     4|             29|2497.77|     |Shipped|     EMEA|   2003|67b387e92a8013590...|\n",
      "|Drammen 121, PR 7...|            |       Bergen|          Veysel|         Oeztan| Norway|        Herkku Gifts|  Medium|      11|  95|2003-11-18|              1|      10188|   +47 2267 3215|      null|    100.0|   S10_1678|Motorcycles|     4|             48|5512.32|     |Shipped|     EMEA|   2003|67b387e92a8013590...|\n",
      "|5557 North Pendal...|            |San Francisco|           Julie|         Murphy|    USA|     Mini Wheels Co.|   Small|      12|  95|2003-12-01|              2|      10201|      6505555787|      null|    98.57|   S10_1678|Motorcycles|     4|             22|2168.54|   CA|Shipped|       NA|   2003|67b387e92a8013590...|\n",
      "|   25, rue Lauriston|            |        Paris|       Dominique|        Perrier| France|    Auto Canal Petit|  Medium|       1|  95|2004-01-15|             14|      10211|  (1) 47.55.6555|     75016|    100.0|   S10_1678|Motorcycles|     1|             41|4708.44|     |Shipped|     EMEA|   2004|67b387e92a8013590...|\n",
      "+--------------------+------------+-------------+----------------+---------------+-------+--------------------+--------+--------+----+----------+---------------+-----------+----------------+----------+---------+-----------+-----------+------+---------------+-------+-----+-------+---------+-------+--------------------+\n",
      "only showing top 10 rows\n",
      "\n"
     ]
    }
   ],
   "source": [
    "treated_df = df.withColumns({\n",
    "    'YEAR_ID': df.YEAR_ID.cast(t.IntegerType()),\n",
    "    'SALES': df.SALES.cast(t.DoubleType()),\n",
    "    'QUANTITYORDERED': df.QUANTITYORDERED.cast(t.IntegerType()),\n",
    "    'QTR_ID': df.QTR_ID.cast(t.IntegerType()),\n",
    "    'PRICEEACH': df.PRICEEACH.cast(t.DoubleType()),\n",
    "    'POSTALCODE': df.POSTALCODE.cast(t.IntegerType()),\n",
    "    'ORDERNUMBER': df.ORDERNUMBER.cast(t.IntegerType()),\n",
    "    'ORDERLINENUMBER': df.ORDERLINENUMBER.cast(t.IntegerType()),\n",
    "    'ORDERDATE': f.to_date(df.ORDERDATE, 'M/d/yyyy H:m'),\n",
    "    'MSRP': df.MSRP.cast(t.IntegerType()),\n",
    "    'MONTH_ID': df.MONTH_ID.cast(t.IntegerType()),\n",
    "})\n",
    "treated_df.show(10)"
   ]
  },
  {
   "cell_type": "code",
   "execution_count": 60,
   "metadata": {},
   "outputs": [
    {
     "name": "stdout",
     "output_type": "stream",
     "text": [
      "root\n",
      " |-- ADDRESSLINE1: string (nullable = true)\n",
      " |-- ADDRESSLINE2: string (nullable = true)\n",
      " |-- CITY: string (nullable = true)\n",
      " |-- CONTACTFIRSTNAME: string (nullable = true)\n",
      " |-- CONTACTLASTNAME: string (nullable = true)\n",
      " |-- COUNTRY: string (nullable = true)\n",
      " |-- CUSTOMERNAME: string (nullable = true)\n",
      " |-- DEALSIZE: string (nullable = true)\n",
      " |-- MONTH_ID: integer (nullable = true)\n",
      " |-- MSRP: integer (nullable = true)\n",
      " |-- ORDERDATE: date (nullable = true)\n",
      " |-- ORDERLINENUMBER: integer (nullable = true)\n",
      " |-- ORDERNUMBER: integer (nullable = true)\n",
      " |-- PHONE: string (nullable = true)\n",
      " |-- POSTALCODE: integer (nullable = true)\n",
      " |-- PRICEEACH: double (nullable = true)\n",
      " |-- PRODUCTCODE: string (nullable = true)\n",
      " |-- PRODUCTLINE: string (nullable = true)\n",
      " |-- QTR_ID: integer (nullable = true)\n",
      " |-- QUANTITYORDERED: integer (nullable = true)\n",
      " |-- SALES: double (nullable = true)\n",
      " |-- STATE: string (nullable = true)\n",
      " |-- STATUS: string (nullable = true)\n",
      " |-- TERRITORY: string (nullable = true)\n",
      " |-- YEAR_ID: integer (nullable = true)\n",
      " |-- _id: string (nullable = true)\n",
      "\n"
     ]
    }
   ],
   "source": [
    "treated_df.printSchema()"
   ]
  },
  {
   "cell_type": "code",
   "execution_count": 61,
   "metadata": {},
   "outputs": [
    {
     "name": "stdout",
     "output_type": "stream",
     "text": [
      "+------------+------------+----+----------------+---------------+-------+------------+--------+--------+----+---------+---------------+-----------+-----+----------+---------+-----------+-----------+------+---------------+-----+-----+------+---------+-------+---+\n",
      "|ADDRESSLINE1|ADDRESSLINE2|CITY|CONTACTFIRSTNAME|CONTACTLASTNAME|COUNTRY|CUSTOMERNAME|DEALSIZE|MONTH_ID|MSRP|ORDERDATE|ORDERLINENUMBER|ORDERNUMBER|PHONE|POSTALCODE|PRICEEACH|PRODUCTCODE|PRODUCTLINE|QTR_ID|QUANTITYORDERED|SALES|STATE|STATUS|TERRITORY|YEAR_ID|_id|\n",
      "+------------+------------+----+----------------+---------------+-------+------------+--------+--------+----+---------+---------------+-----------+-----+----------+---------+-----------+-----------+------+---------------+-----+-----+------+---------+-------+---+\n",
      "|           0|           0|   0|               0|              0|      0|           0|       0|       0|   0|        0|              0|          0|    0|       541|        0|          0|          0|     0|              0|    0|    0|     0|        0|      0|  0|\n",
      "+------------+------------+----+----------------+---------------+-------+------------+--------+--------+----+---------+---------------+-----------+-----+----------+---------+-----------+-----------+------+---------------+-----+-----+------+---------+-------+---+\n",
      "\n"
     ]
    }
   ],
   "source": [
    "treated_df.select([f.count(f.when(f.isnull(c), 1)).alias(c) for c in treated_df.columns]).show()"
   ]
  },
  {
   "cell_type": "code",
   "execution_count": 62,
   "metadata": {},
   "outputs": [
    {
     "name": "stdout",
     "output_type": "stream",
     "text": [
      "+------------+------------+----+----------------+---------------+-------+------------+--------+--------+----+---------+---------------+-----------+-----+----------+---------+-----------+-----------+------+---------------+-----+-----+------+---------+-------+---+\n",
      "|ADDRESSLINE1|ADDRESSLINE2|CITY|CONTACTFIRSTNAME|CONTACTLASTNAME|COUNTRY|CUSTOMERNAME|DEALSIZE|MONTH_ID|MSRP|ORDERDATE|ORDERLINENUMBER|ORDERNUMBER|PHONE|POSTALCODE|PRICEEACH|PRODUCTCODE|PRODUCTLINE|QTR_ID|QUANTITYORDERED|SALES|STATE|STATUS|TERRITORY|YEAR_ID|_id|\n",
      "+------------+------------+----+----------------+---------------+-------+------------+--------+--------+----+---------+---------------+-----------+-----+----------+---------+-----------+-----------+------+---------------+-----+-----+------+---------+-------+---+\n",
      "|           0|        2521|   0|               0|              0|      0|           0|       0|       0|   0|        0|              0|          0|    0|         0|        0|          0|          0|     0|              0|    0| 1486|     0|        0|      0|  0|\n",
      "+------------+------------+----+----------------+---------------+-------+------------+--------+--------+----+---------+---------------+-----------+-----+----------+---------+-----------+-----------+------+---------------+-----+-----+------+---------+-------+---+\n",
      "\n"
     ]
    },
    {
     "name": "stderr",
     "output_type": "stream",
     "text": [
      "                                                                                \r"
     ]
    }
   ],
   "source": [
    "treated_df.select([f.count(f.when(f.length(c) == 0, 1)).alias(c) for c in treated_df.columns]).show()"
   ]
  },
  {
   "cell_type": "code",
   "execution_count": 68,
   "metadata": {},
   "outputs": [
    {
     "name": "stdout",
     "output_type": "stream",
     "text": [
      "+--------------------+------------+-------------+----------------+---------------+---------+--------------------+--------+--------+----+----------+---------------+-----------+----------------+----------+---------+-----------+-----------+------+---------------+-------+--------+-------+---------+-------+--------------------+\n",
      "|        ADDRESSLINE1|ADDRESSLINE2|         CITY|CONTACTFIRSTNAME|CONTACTLASTNAME|  COUNTRY|        CUSTOMERNAME|DEALSIZE|MONTH_ID|MSRP| ORDERDATE|ORDERLINENUMBER|ORDERNUMBER|           PHONE|POSTALCODE|PRICEEACH|PRODUCTCODE|PRODUCTLINE|QTR_ID|QUANTITYORDERED|  SALES|   STATE| STATUS|TERRITORY|YEAR_ID|                 _id|\n",
      "+--------------------+------------+-------------+----------------+---------------+---------+--------------------+--------+--------+----+----------+---------------+-----------+----------------+----------+---------+-----------+-----------+------+---------------+-------+--------+-------+---------+-------+--------------------+\n",
      "|897 Long Airport ...|        null|          NYC|            Kwai|             Yu|      USA|   Land of Toys Inc.|   Small|       2|  95|2003-02-24|              2|      10107|      2125557818|     10022|     95.7|   S10_1678|Motorcycles|     1|             30| 2871.0|      NY|Shipped|       NA|   2003|67b387e92a8013590...|\n",
      "|  59 rue de l'Abbaye|        null|        Reims|            Paul|        Henriot|   France|  Reims Collectables|   Small|       5|  95|2003-05-07|              5|      10121|      26.47.1555|     51100|    81.35|   S10_1678|Motorcycles|     2|             34| 2765.9|    null|Shipped|     EMEA|   2003|67b387e92a8013590...|\n",
      "|27 rue du Colonel...|        null|        Paris|          Daniel|       Da Cunha|   France|     Lyon Souveniers|  Medium|       7|  95|2003-07-01|              2|      10134|+33 1 46 62 7555|     75508|    94.74|   S10_1678|Motorcycles|     3|             41|3884.34|    null|Shipped|     EMEA|   2003|67b387e92a8013590...|\n",
      "|  78934 Hillside Dr.|        null|     Pasadena|           Julie|          Young|      USA|   Toys4GrownUps.com|  Medium|       8|  95|2003-08-25|              6|      10145|      6265557265|     90003|    83.26|   S10_1678|Motorcycles|     3|             45| 3746.7|      CA|Shipped|       NA|   2003|67b387e92a8013590...|\n",
      "|     7734 Strong St.|        null|San Francisco|           Julie|          Brown|      USA|Corporate Gift Id...|  Medium|      10|  95|2003-10-10|             14|      10159|      6505551386|      null|    100.0|   S10_1678|Motorcycles|     4|             49|5205.27|      CA|Shipped|       NA|   2003|67b387e92a8013590...|\n",
      "|   9408 Furth Circle|        null|   Burlingame|            Juri|         Hirano|      USA|Technics Stores Inc.|  Medium|      10|  95|2003-10-28|              1|      10168|      6505556809|     94217|    96.66|   S10_1678|Motorcycles|     4|             36|3479.76|      CA|Shipped|       NA|   2003|67b387e92a8013590...|\n",
      "|184, chausse de T...|        null|        Lille|         Martine|          Rance|   France|Daedalus Designs ...|   Small|      11|  95|2003-11-11|              9|      10180|      20.16.1555|     59000|    86.13|   S10_1678|Motorcycles|     4|             29|2497.77|    null|Shipped|     EMEA|   2003|67b387e92a8013590...|\n",
      "|Drammen 121, PR 7...|        null|       Bergen|          Veysel|         Oeztan|   Norway|        Herkku Gifts|  Medium|      11|  95|2003-11-18|              1|      10188|   +47 2267 3215|      null|    100.0|   S10_1678|Motorcycles|     4|             48|5512.32|    null|Shipped|     EMEA|   2003|67b387e92a8013590...|\n",
      "|5557 North Pendal...|        null|San Francisco|           Julie|         Murphy|      USA|     Mini Wheels Co.|   Small|      12|  95|2003-12-01|              2|      10201|      6505555787|      null|    98.57|   S10_1678|Motorcycles|     4|             22|2168.54|      CA|Shipped|       NA|   2003|67b387e92a8013590...|\n",
      "|   25, rue Lauriston|        null|        Paris|       Dominique|        Perrier|   France|    Auto Canal Petit|  Medium|       1|  95|2004-01-15|             14|      10211|  (1) 47.55.6555|     75016|    100.0|   S10_1678|Motorcycles|     1|             41|4708.44|    null|Shipped|     EMEA|   2004|67b387e92a8013590...|\n",
      "|   636 St Kilda Road|     Level 3|    Melbourne|           Peter|       Ferguson|Australia|Australian Collec...|  Medium|       2|  95|2004-02-20|              1|      10223|    03 9520 4555|      3004|    100.0|   S10_1678|Motorcycles|     1|             37|3965.66|Victoria|Shipped|     APAC|   2004|67b387e92a8013590...|\n",
      "|   2678 Kingston Rd.|   Suite 101|          NYC|         Michael|          Frick|      USA|     Vitachrome Inc.|   Small|       4|  95|2004-04-05|              7|      10237|      2125551500|     10022|    100.0|   S10_1678|Motorcycles|     2|             23|2333.12|      NY|Shipped|       NA|   2004|67b387e92a8013590...|\n",
      "|       7476 Moss Rd.|        null|       Newark|         William|          Brown|      USA|Tekni Collectable...|  Medium|       5|  95|2004-05-18|              2|      10251|      2015559350|     94019|    100.0|   S10_1678|Motorcycles|     2|             28|3188.64|      NJ|Shipped|       NA|   2004|67b387e92a8013590...|\n",
      "| 25593 South Bay Ln.|        null|  Bridgewater|           Julie|           King|      USA|     Gift Depot Inc.|  Medium|       6|  95|2004-06-28|              2|      10263|      2035552570|     97562|    100.0|   S10_1678|Motorcycles|     2|             34|3676.76|      CT|Shipped|       NA|   2004|67b387e92a8013590...|\n",
      "|67, rue des Cinqu...|        null|       Nantes|          Janine|        Labrune|   France|   La Rochelle Gifts|  Medium|       7|  95|2004-07-23|              1|      10275|      40.67.8555|     44000|    92.83|   S10_1678|Motorcycles|     3|             45|4177.35|    null|Shipped|     EMEA|   2004|67b387e92a8013590...|\n",
      "| 39323 Spinnaker Dr.|        null|    Cambridge|           Marta|      Hernandez|      USA|Marta's Replicas Co.|  Medium|       8|  95|2004-08-27|              6|      10285|      6175558555|     51247|    100.0|   S10_1678|Motorcycles|     3|             36|4099.68|      MA|Shipped|       NA|   2004|67b387e92a8013590...|\n",
      "|       Keskuskatu 45|        null|     Helsinki|           Matti|      Karttunen|  Finland|Toys of Finland, Co.|   Small|       9|  95|2004-09-30|              9|      10299|     90-224 8555|     21240|    100.0|   S10_1678|Motorcycles|     3|             23|2597.39|    null|Shipped|     EMEA|   2004|67b387e92a8013590...|\n",
      "|Erling Skakkes ga...|        null|      Stavern|           Jonas|     Bergulfsen|   Norway|  Baane Mini Imports|  Medium|      10|  95|2004-10-15|              5|      10309|      07-98 9555|      4110|    100.0|   S10_1678|Motorcycles|     4|             41|4394.38|    null|Shipped|     EMEA|   2004|67b387e92a8013590...|\n",
      "|    7586 Pompton St.|        null|    Allentown|           Kyung|             Yu|      USA|Diecast Classics ...|  Medium|      11|  95|2004-11-02|              1|      10318|      2155551555|     70267|    94.74|   S10_1678|Motorcycles|     4|             46|4358.04|      PA|Shipped|       NA|   2004|67b387e92a8013590...|\n",
      "|897 Long Airport ...|        null|          NYC|            Kwai|             Yu|      USA|   Land of Toys Inc.|  Medium|      11|  95|2004-11-15|              1|      10329|      2125557818|     10022|    100.0|   S10_1678|Motorcycles|     4|             42|4396.14|      NY|Shipped|       NA|   2004|67b387e92a8013590...|\n",
      "+--------------------+------------+-------------+----------------+---------------+---------+--------------------+--------+--------+----+----------+---------------+-----------+----------------+----------+---------+-----------+-----------+------+---------------+-------+--------+-------+---------+-------+--------------------+\n",
      "only showing top 20 rows\n",
      "\n"
     ]
    }
   ],
   "source": [
    "treated_df = treated_df.na.replace(\"\", None)\n",
    "treated_df.show()"
   ]
  },
  {
   "cell_type": "code",
   "execution_count": 70,
   "metadata": {},
   "outputs": [
    {
     "name": "stderr",
     "output_type": "stream",
     "text": [
      "[Stage 41:>                                                         (0 + 1) / 1]\r"
     ]
    },
    {
     "name": "stdout",
     "output_type": "stream",
     "text": [
      "+------------+------------+----+----------------+---------------+-------+------------+--------+--------+----+---------+---------------+-----------+-----+----------+---------+-----------+-----------+------+---------------+-----+-----+------+---------+-------+---+\n",
      "|ADDRESSLINE1|ADDRESSLINE2|CITY|CONTACTFIRSTNAME|CONTACTLASTNAME|COUNTRY|CUSTOMERNAME|DEALSIZE|MONTH_ID|MSRP|ORDERDATE|ORDERLINENUMBER|ORDERNUMBER|PHONE|POSTALCODE|PRICEEACH|PRODUCTCODE|PRODUCTLINE|QTR_ID|QUANTITYORDERED|SALES|STATE|STATUS|TERRITORY|YEAR_ID|_id|\n",
      "+------------+------------+----+----------------+---------------+-------+------------+--------+--------+----+---------+---------------+-----------+-----+----------+---------+-----------+-----------+------+---------------+-----+-----+------+---------+-------+---+\n",
      "|           0|        2521|   0|               0|              0|      0|           0|       0|       0|   0|        0|              0|          0|    0|       541|        0|          0|          0|     0|              0|    0| 1486|     0|        0|      0|  0|\n",
      "+------------+------------+----+----------------+---------------+-------+------------+--------+--------+----+---------+---------------+-----------+-----+----------+---------+-----------+-----------+------+---------------+-----+-----+------+---------+-------+---+\n",
      "\n"
     ]
    },
    {
     "name": "stderr",
     "output_type": "stream",
     "text": [
      "                                                                                \r"
     ]
    }
   ],
   "source": [
    "treated_df.select([f.count(f.when(f.isnull(c), 1)).alias(c) for c in treated_df.columns]).show()"
   ]
  },
  {
   "cell_type": "code",
   "execution_count": 71,
   "metadata": {},
   "outputs": [
    {
     "name": "stderr",
     "output_type": "stream",
     "text": [
      "                                                                                \r"
     ]
    }
   ],
   "source": [
    "treated_df.write.parquet(\"../data/parquet\", mode=\"overwrite\")"
   ]
  },
  {
   "cell_type": "code",
   "execution_count": 72,
   "metadata": {},
   "outputs": [
    {
     "name": "stdout",
     "output_type": "stream",
     "text": [
      "+--------------------+------------+-------------+----------------+---------------+---------+--------------------+--------+--------+----+----------+---------------+-----------+----------------+----------+---------+-----------+-----------+------+---------------+-------+--------+-------+---------+-------+--------------------+\n",
      "|        ADDRESSLINE1|ADDRESSLINE2|         CITY|CONTACTFIRSTNAME|CONTACTLASTNAME|  COUNTRY|        CUSTOMERNAME|DEALSIZE|MONTH_ID|MSRP| ORDERDATE|ORDERLINENUMBER|ORDERNUMBER|           PHONE|POSTALCODE|PRICEEACH|PRODUCTCODE|PRODUCTLINE|QTR_ID|QUANTITYORDERED|  SALES|   STATE| STATUS|TERRITORY|YEAR_ID|                 _id|\n",
      "+--------------------+------------+-------------+----------------+---------------+---------+--------------------+--------+--------+----+----------+---------------+-----------+----------------+----------+---------+-----------+-----------+------+---------------+-------+--------+-------+---------+-------+--------------------+\n",
      "|897 Long Airport ...|        null|          NYC|            Kwai|             Yu|      USA|   Land of Toys Inc.|   Small|       2|  95|2003-02-24|              2|      10107|      2125557818|     10022|     95.7|   S10_1678|Motorcycles|     1|             30| 2871.0|      NY|Shipped|       NA|   2003|67b387e92a8013590...|\n",
      "|  59 rue de l'Abbaye|        null|        Reims|            Paul|        Henriot|   France|  Reims Collectables|   Small|       5|  95|2003-05-07|              5|      10121|      26.47.1555|     51100|    81.35|   S10_1678|Motorcycles|     2|             34| 2765.9|    null|Shipped|     EMEA|   2003|67b387e92a8013590...|\n",
      "|27 rue du Colonel...|        null|        Paris|          Daniel|       Da Cunha|   France|     Lyon Souveniers|  Medium|       7|  95|2003-07-01|              2|      10134|+33 1 46 62 7555|     75508|    94.74|   S10_1678|Motorcycles|     3|             41|3884.34|    null|Shipped|     EMEA|   2003|67b387e92a8013590...|\n",
      "|  78934 Hillside Dr.|        null|     Pasadena|           Julie|          Young|      USA|   Toys4GrownUps.com|  Medium|       8|  95|2003-08-25|              6|      10145|      6265557265|     90003|    83.26|   S10_1678|Motorcycles|     3|             45| 3746.7|      CA|Shipped|       NA|   2003|67b387e92a8013590...|\n",
      "|     7734 Strong St.|        null|San Francisco|           Julie|          Brown|      USA|Corporate Gift Id...|  Medium|      10|  95|2003-10-10|             14|      10159|      6505551386|      null|    100.0|   S10_1678|Motorcycles|     4|             49|5205.27|      CA|Shipped|       NA|   2003|67b387e92a8013590...|\n",
      "|   9408 Furth Circle|        null|   Burlingame|            Juri|         Hirano|      USA|Technics Stores Inc.|  Medium|      10|  95|2003-10-28|              1|      10168|      6505556809|     94217|    96.66|   S10_1678|Motorcycles|     4|             36|3479.76|      CA|Shipped|       NA|   2003|67b387e92a8013590...|\n",
      "|184, chausse de T...|        null|        Lille|         Martine|          Rance|   France|Daedalus Designs ...|   Small|      11|  95|2003-11-11|              9|      10180|      20.16.1555|     59000|    86.13|   S10_1678|Motorcycles|     4|             29|2497.77|    null|Shipped|     EMEA|   2003|67b387e92a8013590...|\n",
      "|Drammen 121, PR 7...|        null|       Bergen|          Veysel|         Oeztan|   Norway|        Herkku Gifts|  Medium|      11|  95|2003-11-18|              1|      10188|   +47 2267 3215|      null|    100.0|   S10_1678|Motorcycles|     4|             48|5512.32|    null|Shipped|     EMEA|   2003|67b387e92a8013590...|\n",
      "|5557 North Pendal...|        null|San Francisco|           Julie|         Murphy|      USA|     Mini Wheels Co.|   Small|      12|  95|2003-12-01|              2|      10201|      6505555787|      null|    98.57|   S10_1678|Motorcycles|     4|             22|2168.54|      CA|Shipped|       NA|   2003|67b387e92a8013590...|\n",
      "|   25, rue Lauriston|        null|        Paris|       Dominique|        Perrier|   France|    Auto Canal Petit|  Medium|       1|  95|2004-01-15|             14|      10211|  (1) 47.55.6555|     75016|    100.0|   S10_1678|Motorcycles|     1|             41|4708.44|    null|Shipped|     EMEA|   2004|67b387e92a8013590...|\n",
      "|   636 St Kilda Road|     Level 3|    Melbourne|           Peter|       Ferguson|Australia|Australian Collec...|  Medium|       2|  95|2004-02-20|              1|      10223|    03 9520 4555|      3004|    100.0|   S10_1678|Motorcycles|     1|             37|3965.66|Victoria|Shipped|     APAC|   2004|67b387e92a8013590...|\n",
      "|   2678 Kingston Rd.|   Suite 101|          NYC|         Michael|          Frick|      USA|     Vitachrome Inc.|   Small|       4|  95|2004-04-05|              7|      10237|      2125551500|     10022|    100.0|   S10_1678|Motorcycles|     2|             23|2333.12|      NY|Shipped|       NA|   2004|67b387e92a8013590...|\n",
      "|       7476 Moss Rd.|        null|       Newark|         William|          Brown|      USA|Tekni Collectable...|  Medium|       5|  95|2004-05-18|              2|      10251|      2015559350|     94019|    100.0|   S10_1678|Motorcycles|     2|             28|3188.64|      NJ|Shipped|       NA|   2004|67b387e92a8013590...|\n",
      "| 25593 South Bay Ln.|        null|  Bridgewater|           Julie|           King|      USA|     Gift Depot Inc.|  Medium|       6|  95|2004-06-28|              2|      10263|      2035552570|     97562|    100.0|   S10_1678|Motorcycles|     2|             34|3676.76|      CT|Shipped|       NA|   2004|67b387e92a8013590...|\n",
      "|67, rue des Cinqu...|        null|       Nantes|          Janine|        Labrune|   France|   La Rochelle Gifts|  Medium|       7|  95|2004-07-23|              1|      10275|      40.67.8555|     44000|    92.83|   S10_1678|Motorcycles|     3|             45|4177.35|    null|Shipped|     EMEA|   2004|67b387e92a8013590...|\n",
      "| 39323 Spinnaker Dr.|        null|    Cambridge|           Marta|      Hernandez|      USA|Marta's Replicas Co.|  Medium|       8|  95|2004-08-27|              6|      10285|      6175558555|     51247|    100.0|   S10_1678|Motorcycles|     3|             36|4099.68|      MA|Shipped|       NA|   2004|67b387e92a8013590...|\n",
      "|       Keskuskatu 45|        null|     Helsinki|           Matti|      Karttunen|  Finland|Toys of Finland, Co.|   Small|       9|  95|2004-09-30|              9|      10299|     90-224 8555|     21240|    100.0|   S10_1678|Motorcycles|     3|             23|2597.39|    null|Shipped|     EMEA|   2004|67b387e92a8013590...|\n",
      "|Erling Skakkes ga...|        null|      Stavern|           Jonas|     Bergulfsen|   Norway|  Baane Mini Imports|  Medium|      10|  95|2004-10-15|              5|      10309|      07-98 9555|      4110|    100.0|   S10_1678|Motorcycles|     4|             41|4394.38|    null|Shipped|     EMEA|   2004|67b387e92a8013590...|\n",
      "|    7586 Pompton St.|        null|    Allentown|           Kyung|             Yu|      USA|Diecast Classics ...|  Medium|      11|  95|2004-11-02|              1|      10318|      2155551555|     70267|    94.74|   S10_1678|Motorcycles|     4|             46|4358.04|      PA|Shipped|       NA|   2004|67b387e92a8013590...|\n",
      "|897 Long Airport ...|        null|          NYC|            Kwai|             Yu|      USA|   Land of Toys Inc.|  Medium|      11|  95|2004-11-15|              1|      10329|      2125557818|     10022|    100.0|   S10_1678|Motorcycles|     4|             42|4396.14|      NY|Shipped|       NA|   2004|67b387e92a8013590...|\n",
      "+--------------------+------------+-------------+----------------+---------------+---------+--------------------+--------+--------+----+----------+---------------+-----------+----------------+----------+---------+-----------+-----------+------+---------------+-------+--------+-------+---------+-------+--------------------+\n",
      "only showing top 20 rows\n",
      "\n"
     ]
    }
   ],
   "source": [
    "df_parquet = spark.read.parquet(\"../data/parquet\")\n",
    "df_parquet.show()"
   ]
  },
  {
   "cell_type": "code",
   "execution_count": null,
   "metadata": {},
   "outputs": [],
   "source": [
    "spark.stop()\n",
    "client.close()"
   ]
  }
 ],
 "metadata": {
  "kernelspec": {
   "display_name": ".venv",
   "language": "python",
   "name": "python3"
  },
  "language_info": {
   "codemirror_mode": {
    "name": "ipython",
    "version": 3
   },
   "file_extension": ".py",
   "mimetype": "text/x-python",
   "name": "python",
   "nbconvert_exporter": "python",
   "pygments_lexer": "ipython3",
   "version": "3.9.21"
  }
 },
 "nbformat": 4,
 "nbformat_minor": 2
}
