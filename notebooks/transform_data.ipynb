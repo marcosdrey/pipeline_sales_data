{
 "cells": [
  {
   "cell_type": "code",
   "execution_count": 2,
   "metadata": {},
   "outputs": [],
   "source": [
    "import os\n",
    "from dotenv import load_dotenv\n",
    "from pymongo.server_api import ServerApi\n",
    "from pymongo.mongo_client import MongoClient"
   ]
  },
  {
   "cell_type": "code",
   "execution_count": 3,
   "metadata": {},
   "outputs": [
    {
     "name": "stdout",
     "output_type": "stream",
     "text": [
      "Conectado no MongoDB!\n"
     ]
    }
   ],
   "source": [
    "load_dotenv()\n",
    "\n",
    "\n",
    "uri = os.getenv(\"MONGO_ATLAS_URL\")\n",
    "client = MongoClient(uri, server_api=ServerApi(\"1\"))\n",
    "\n",
    "try:\n",
    "    client.admin.command(\"ping\")\n",
    "    print(\"Conectado no MongoDB!\")\n",
    "except Exception as e:\n",
    "    print(e)"
   ]
  },
  {
   "cell_type": "code",
   "execution_count": 4,
   "metadata": {},
   "outputs": [],
   "source": [
    "db = client['db_sales']"
   ]
  },
  {
   "cell_type": "code",
   "execution_count": 5,
   "metadata": {},
   "outputs": [
    {
     "data": {
      "text/plain": [
       "['sales']"
      ]
     },
     "execution_count": 5,
     "metadata": {},
     "output_type": "execute_result"
    }
   ],
   "source": [
    "db.list_collection_names()"
   ]
  },
  {
   "cell_type": "code",
   "execution_count": 6,
   "metadata": {},
   "outputs": [],
   "source": [
    "collection = db['sales']"
   ]
  },
  {
   "cell_type": "code",
   "execution_count": 7,
   "metadata": {},
   "outputs": [
    {
     "data": {
      "text/plain": [
       "[{'_id': ObjectId('67b387e92a80135900d5002e'),\n",
       "  'ORDERNUMBER': '10107',\n",
       "  'QUANTITYORDERED': '30',\n",
       "  'PRICEEACH': '95.7',\n",
       "  'ORDERLINENUMBER': '2',\n",
       "  'SALES': '2871',\n",
       "  'ORDERDATE': '2/24/2003 0:00',\n",
       "  'STATUS': 'Shipped',\n",
       "  'QTR_ID': '1',\n",
       "  'MONTH_ID': '2',\n",
       "  'YEAR_ID': '2003',\n",
       "  'PRODUCTLINE': 'Motorcycles',\n",
       "  'MSRP': '95',\n",
       "  'PRODUCTCODE': 'S10_1678',\n",
       "  'CUSTOMERNAME': 'Land of Toys Inc.',\n",
       "  'PHONE': '2125557818',\n",
       "  'ADDRESSLINE1': '897 Long Airport Avenue',\n",
       "  'ADDRESSLINE2': '',\n",
       "  'CITY': 'NYC',\n",
       "  'STATE': 'NY',\n",
       "  'POSTALCODE': '10022',\n",
       "  'COUNTRY': 'USA',\n",
       "  'TERRITORY': 'NA',\n",
       "  'CONTACTLASTNAME': 'Yu',\n",
       "  'CONTACTFIRSTNAME': 'Kwai',\n",
       "  'DEALSIZE': 'Small'},\n",
       " {'_id': ObjectId('67b387e92a80135900d5002f'),\n",
       "  'ORDERNUMBER': '10121',\n",
       "  'QUANTITYORDERED': '34',\n",
       "  'PRICEEACH': '81.35',\n",
       "  'ORDERLINENUMBER': '5',\n",
       "  'SALES': '2765.9',\n",
       "  'ORDERDATE': '5/7/2003 0:00',\n",
       "  'STATUS': 'Shipped',\n",
       "  'QTR_ID': '2',\n",
       "  'MONTH_ID': '5',\n",
       "  'YEAR_ID': '2003',\n",
       "  'PRODUCTLINE': 'Motorcycles',\n",
       "  'MSRP': '95',\n",
       "  'PRODUCTCODE': 'S10_1678',\n",
       "  'CUSTOMERNAME': 'Reims Collectables',\n",
       "  'PHONE': '26.47.1555',\n",
       "  'ADDRESSLINE1': \"59 rue de l'Abbaye\",\n",
       "  'ADDRESSLINE2': '',\n",
       "  'CITY': 'Reims',\n",
       "  'STATE': '',\n",
       "  'POSTALCODE': '51100',\n",
       "  'COUNTRY': 'France',\n",
       "  'TERRITORY': 'EMEA',\n",
       "  'CONTACTLASTNAME': 'Henriot',\n",
       "  'CONTACTFIRSTNAME': 'Paul',\n",
       "  'DEALSIZE': 'Small'},\n",
       " {'_id': ObjectId('67b387e92a80135900d50030'),\n",
       "  'ORDERNUMBER': '10134',\n",
       "  'QUANTITYORDERED': '41',\n",
       "  'PRICEEACH': '94.74',\n",
       "  'ORDERLINENUMBER': '2',\n",
       "  'SALES': '3884.34',\n",
       "  'ORDERDATE': '7/1/2003 0:00',\n",
       "  'STATUS': 'Shipped',\n",
       "  'QTR_ID': '3',\n",
       "  'MONTH_ID': '7',\n",
       "  'YEAR_ID': '2003',\n",
       "  'PRODUCTLINE': 'Motorcycles',\n",
       "  'MSRP': '95',\n",
       "  'PRODUCTCODE': 'S10_1678',\n",
       "  'CUSTOMERNAME': 'Lyon Souveniers',\n",
       "  'PHONE': '+33 1 46 62 7555',\n",
       "  'ADDRESSLINE1': '27 rue du Colonel Pierre Avia',\n",
       "  'ADDRESSLINE2': '',\n",
       "  'CITY': 'Paris',\n",
       "  'STATE': '',\n",
       "  'POSTALCODE': '75508',\n",
       "  'COUNTRY': 'France',\n",
       "  'TERRITORY': 'EMEA',\n",
       "  'CONTACTLASTNAME': 'Da Cunha',\n",
       "  'CONTACTFIRSTNAME': 'Daniel',\n",
       "  'DEALSIZE': 'Medium'},\n",
       " {'_id': ObjectId('67b387e92a80135900d50031'),\n",
       "  'ORDERNUMBER': '10145',\n",
       "  'QUANTITYORDERED': '45',\n",
       "  'PRICEEACH': '83.26',\n",
       "  'ORDERLINENUMBER': '6',\n",
       "  'SALES': '3746.7',\n",
       "  'ORDERDATE': '8/25/2003 0:00',\n",
       "  'STATUS': 'Shipped',\n",
       "  'QTR_ID': '3',\n",
       "  'MONTH_ID': '8',\n",
       "  'YEAR_ID': '2003',\n",
       "  'PRODUCTLINE': 'Motorcycles',\n",
       "  'MSRP': '95',\n",
       "  'PRODUCTCODE': 'S10_1678',\n",
       "  'CUSTOMERNAME': 'Toys4GrownUps.com',\n",
       "  'PHONE': '6265557265',\n",
       "  'ADDRESSLINE1': '78934 Hillside Dr.',\n",
       "  'ADDRESSLINE2': '',\n",
       "  'CITY': 'Pasadena',\n",
       "  'STATE': 'CA',\n",
       "  'POSTALCODE': '90003',\n",
       "  'COUNTRY': 'USA',\n",
       "  'TERRITORY': 'NA',\n",
       "  'CONTACTLASTNAME': 'Young',\n",
       "  'CONTACTFIRSTNAME': 'Julie',\n",
       "  'DEALSIZE': 'Medium'},\n",
       " {'_id': ObjectId('67b387e92a80135900d50032'),\n",
       "  'ORDERNUMBER': '10159',\n",
       "  'QUANTITYORDERED': '49',\n",
       "  'PRICEEACH': '100',\n",
       "  'ORDERLINENUMBER': '14',\n",
       "  'SALES': '5205.27',\n",
       "  'ORDERDATE': '10/10/2003 0:00',\n",
       "  'STATUS': 'Shipped',\n",
       "  'QTR_ID': '4',\n",
       "  'MONTH_ID': '10',\n",
       "  'YEAR_ID': '2003',\n",
       "  'PRODUCTLINE': 'Motorcycles',\n",
       "  'MSRP': '95',\n",
       "  'PRODUCTCODE': 'S10_1678',\n",
       "  'CUSTOMERNAME': 'Corporate Gift Ideas Co.',\n",
       "  'PHONE': '6505551386',\n",
       "  'ADDRESSLINE1': '7734 Strong St.',\n",
       "  'ADDRESSLINE2': '',\n",
       "  'CITY': 'San Francisco',\n",
       "  'STATE': 'CA',\n",
       "  'POSTALCODE': '',\n",
       "  'COUNTRY': 'USA',\n",
       "  'TERRITORY': 'NA',\n",
       "  'CONTACTLASTNAME': 'Brown',\n",
       "  'CONTACTFIRSTNAME': 'Julie',\n",
       "  'DEALSIZE': 'Medium'}]"
      ]
     },
     "execution_count": 7,
     "metadata": {},
     "output_type": "execute_result"
    }
   ],
   "source": [
    "list(collection.find({}).limit(5))"
   ]
  },
  {
   "cell_type": "code",
   "execution_count": 11,
   "metadata": {},
   "outputs": [],
   "source": [
    "from pyspark.sql import SparkSession\n",
    "\n",
    "\n",
    "spark = SparkSession.builder \\\n",
    "    .appName(\"Sales Data Spark\") \\\n",
    "    .config(\"spark.mongodb.read.connection.uri\", uri) \\\n",
    "    .config(\"spark.mongodb.write.connection.uri\", uri) \\\n",
    "    .config(\"spark.jars.packages\", \"org.mongodb.spark:mongo-spark-connector:10.0.3\") \\\n",
    "    .getOrCreate()"
   ]
  },
  {
   "cell_type": "code",
   "execution_count": 12,
   "metadata": {},
   "outputs": [],
   "source": [
    "df = (spark.read.format(\"mongodb\").option(\"database\", \"db_sales\").option(\"collection\", \"sales\").load())"
   ]
  },
  {
   "cell_type": "code",
   "execution_count": 13,
   "metadata": {},
   "outputs": [
    {
     "name": "stdout",
     "output_type": "stream",
     "text": [
      "root\n",
      " |-- ADDRESSLINE1: string (nullable = true)\n",
      " |-- ADDRESSLINE2: string (nullable = true)\n",
      " |-- CITY: string (nullable = true)\n",
      " |-- CONTACTFIRSTNAME: string (nullable = true)\n",
      " |-- CONTACTLASTNAME: string (nullable = true)\n",
      " |-- COUNTRY: string (nullable = true)\n",
      " |-- CUSTOMERNAME: string (nullable = true)\n",
      " |-- DEALSIZE: string (nullable = true)\n",
      " |-- MONTH_ID: string (nullable = true)\n",
      " |-- MSRP: string (nullable = true)\n",
      " |-- ORDERDATE: string (nullable = true)\n",
      " |-- ORDERLINENUMBER: string (nullable = true)\n",
      " |-- ORDERNUMBER: string (nullable = true)\n",
      " |-- PHONE: string (nullable = true)\n",
      " |-- POSTALCODE: string (nullable = true)\n",
      " |-- PRICEEACH: string (nullable = true)\n",
      " |-- PRODUCTCODE: string (nullable = true)\n",
      " |-- PRODUCTLINE: string (nullable = true)\n",
      " |-- QTR_ID: string (nullable = true)\n",
      " |-- QUANTITYORDERED: string (nullable = true)\n",
      " |-- SALES: string (nullable = true)\n",
      " |-- STATE: string (nullable = true)\n",
      " |-- STATUS: string (nullable = true)\n",
      " |-- TERRITORY: string (nullable = true)\n",
      " |-- YEAR_ID: string (nullable = true)\n",
      " |-- _id: string (nullable = true)\n",
      "\n"
     ]
    }
   ],
   "source": [
    "df.printSchema()"
   ]
  },
  {
   "cell_type": "code",
   "execution_count": 14,
   "metadata": {},
   "outputs": [
    {
     "name": "stderr",
     "output_type": "stream",
     "text": [
      "25/02/17 19:08:42 WARN package: Truncated the string representation of a plan since it was too large. This behavior can be adjusted by setting 'spark.sql.debug.maxToStringFields'.\n",
      "[Stage 0:>                                                          (0 + 1) / 1]\r"
     ]
    },
    {
     "name": "stdout",
     "output_type": "stream",
     "text": [
      "+--------------------+------------+-------------+----------------+---------------+-------+--------------------+--------+--------+----+---------------+---------------+-----------+----------------+----------+---------+-----------+-----------+------+---------------+-------+-----+-------+---------+-------+--------------------+\n",
      "|        ADDRESSLINE1|ADDRESSLINE2|         CITY|CONTACTFIRSTNAME|CONTACTLASTNAME|COUNTRY|        CUSTOMERNAME|DEALSIZE|MONTH_ID|MSRP|      ORDERDATE|ORDERLINENUMBER|ORDERNUMBER|           PHONE|POSTALCODE|PRICEEACH|PRODUCTCODE|PRODUCTLINE|QTR_ID|QUANTITYORDERED|  SALES|STATE| STATUS|TERRITORY|YEAR_ID|                 _id|\n",
      "+--------------------+------------+-------------+----------------+---------------+-------+--------------------+--------+--------+----+---------------+---------------+-----------+----------------+----------+---------+-----------+-----------+------+---------------+-------+-----+-------+---------+-------+--------------------+\n",
      "|897 Long Airport ...|            |          NYC|            Kwai|             Yu|    USA|   Land of Toys Inc.|   Small|       2|  95| 2/24/2003 0:00|              2|      10107|      2125557818|     10022|     95.7|   S10_1678|Motorcycles|     1|             30|   2871|   NY|Shipped|       NA|   2003|67b387e92a8013590...|\n",
      "|  59 rue de l'Abbaye|            |        Reims|            Paul|        Henriot| France|  Reims Collectables|   Small|       5|  95|  5/7/2003 0:00|              5|      10121|      26.47.1555|     51100|    81.35|   S10_1678|Motorcycles|     2|             34| 2765.9|     |Shipped|     EMEA|   2003|67b387e92a8013590...|\n",
      "|27 rue du Colonel...|            |        Paris|          Daniel|       Da Cunha| France|     Lyon Souveniers|  Medium|       7|  95|  7/1/2003 0:00|              2|      10134|+33 1 46 62 7555|     75508|    94.74|   S10_1678|Motorcycles|     3|             41|3884.34|     |Shipped|     EMEA|   2003|67b387e92a8013590...|\n",
      "|  78934 Hillside Dr.|            |     Pasadena|           Julie|          Young|    USA|   Toys4GrownUps.com|  Medium|       8|  95| 8/25/2003 0:00|              6|      10145|      6265557265|     90003|    83.26|   S10_1678|Motorcycles|     3|             45| 3746.7|   CA|Shipped|       NA|   2003|67b387e92a8013590...|\n",
      "|     7734 Strong St.|            |San Francisco|           Julie|          Brown|    USA|Corporate Gift Id...|  Medium|      10|  95|10/10/2003 0:00|             14|      10159|      6505551386|          |      100|   S10_1678|Motorcycles|     4|             49|5205.27|   CA|Shipped|       NA|   2003|67b387e92a8013590...|\n",
      "+--------------------+------------+-------------+----------------+---------------+-------+--------------------+--------+--------+----+---------------+---------------+-----------+----------------+----------+---------+-----------+-----------+------+---------------+-------+-----+-------+---------+-------+--------------------+\n",
      "only showing top 5 rows\n",
      "\n"
     ]
    },
    {
     "name": "stderr",
     "output_type": "stream",
     "text": [
      "                                                                                \r"
     ]
    }
   ],
   "source": [
    "df.show(5)"
   ]
  },
  {
   "cell_type": "code",
   "execution_count": null,
   "metadata": {},
   "outputs": [
    {
     "name": "stdout",
     "output_type": "stream",
     "text": [
      "+----------------+\n",
      "|     PRODUCTLINE|\n",
      "+----------------+\n",
      "|     Motorcycles|\n",
      "|    Classic Cars|\n",
      "|Trucks and Buses|\n",
      "|    Vintage Cars|\n",
      "|          Planes|\n",
      "|           Ships|\n",
      "|          Trains|\n",
      "+----------------+\n",
      "\n"
     ]
    }
   ],
   "source": [
    "df.select('PRODUCTLINE').distinct().show()"
   ]
  },
  {
   "cell_type": "code",
   "execution_count": 26,
   "metadata": {},
   "outputs": [
    {
     "name": "stdout",
     "output_type": "stream",
     "text": [
      "+----------------+-----+-----------+\n",
      "|     PRODUCTLINE|Count|Total Sales|\n",
      "+----------------+-----+-----------+\n",
      "|    Classic Cars|  967|    3919615|\n",
      "|    Vintage Cars|  607|    1903150|\n",
      "|     Motorcycles|  331|    1166388|\n",
      "|Trucks and Buses|  301|    1127789|\n",
      "|          Planes|  306|     975003|\n",
      "|           Ships|  234|     714437|\n",
      "|          Trains|   77|     226243|\n",
      "+----------------+-----+-----------+\n",
      "\n"
     ]
    },
    {
     "name": "stderr",
     "output_type": "stream",
     "text": [
      "                                                                                \r"
     ]
    }
   ],
   "source": [
    "import pyspark.sql.functions as f\n",
    "import pyspark.sql.types as t\n",
    "\n",
    "\n",
    "df_productlines = df.select('PRODUCTLINE', 'SALES').groupBy('PRODUCTLINE').agg(\n",
    "    f.count('PRODUCTLINE').alias('Count'),\n",
    "    f.sum('SALES').cast(t.IntegerType()).alias('Total Sales')\n",
    ").orderBy('Total Sales', ascending=False)\n",
    "df_productlines.show()"
   ]
  },
  {
   "cell_type": "code",
   "execution_count": 31,
   "metadata": {},
   "outputs": [
    {
     "name": "stdout",
     "output_type": "stream",
     "text": [
      "+--------------------+------------+----+----------------+---------------+-------+-----------------+--------+--------+----+--------------+---------------+-----------+----------+----------+---------+-----------+-----------+------+---------------+-----+-----+-------+---------+-------+--------------------+\n",
      "|        ADDRESSLINE1|ADDRESSLINE2|CITY|CONTACTFIRSTNAME|CONTACTLASTNAME|COUNTRY|     CUSTOMERNAME|DEALSIZE|MONTH_ID|MSRP|     ORDERDATE|ORDERLINENUMBER|ORDERNUMBER|     PHONE|POSTALCODE|PRICEEACH|PRODUCTCODE|PRODUCTLINE|QTR_ID|QUANTITYORDERED|SALES|STATE| STATUS|TERRITORY|YEAR_ID|                 _id|\n",
      "+--------------------+------------+----+----------------+---------------+-------+-----------------+--------+--------+----+--------------+---------------+-----------+----------+----------+---------+-----------+-----------+------+---------------+-----+-----+-------+---------+-------+--------------------+\n",
      "|897 Long Airport ...|            | NYC|            Kwai|             Yu|    USA|Land of Toys Inc.|   Small|       2|  95|2/24/2003 0:00|              2|      10107|2125557818|     10022|     95.7|   S10_1678|Motorcycles|     1|             30| 2871|   NY|Shipped|       NA|   2003|67b387e92a8013590...|\n",
      "+--------------------+------------+----+----------------+---------------+-------+-----------------+--------+--------+----+--------------+---------------+-----------+----------+----------+---------+-----------+-----------+------+---------------+-----+-----+-------+---------+-------+--------------------+\n",
      "only showing top 1 row\n",
      "\n"
     ]
    }
   ],
   "source": [
    "df.show(1)"
   ]
  },
  {
   "cell_type": "code",
   "execution_count": 34,
   "metadata": {},
   "outputs": [
    {
     "name": "stdout",
     "output_type": "stream",
     "text": [
      "+-----------+\n",
      "|    COUNTRY|\n",
      "+-----------+\n",
      "|     France|\n",
      "|     Norway|\n",
      "|  Australia|\n",
      "|    Finland|\n",
      "|    Austria|\n",
      "|         UK|\n",
      "|      Spain|\n",
      "|     Sweden|\n",
      "|  Singapore|\n",
      "|     Canada|\n",
      "|      Japan|\n",
      "|      Italy|\n",
      "|    Denmark|\n",
      "|    Belgium|\n",
      "|Philippines|\n",
      "|    Germany|\n",
      "|Switzerland|\n",
      "|    Ireland|\n",
      "+-----------+\n",
      "\n"
     ]
    }
   ],
   "source": [
    "df.select('COUNTRY').where(f.length(df.COUNTRY) != 3).distinct().show()"
   ]
  },
  {
   "cell_type": "code",
   "execution_count": null,
   "metadata": {},
   "outputs": [
    {
     "name": "stdout",
     "output_type": "stream",
     "text": [
      "+-----------+\n",
      "|ORDERNUMBER|\n",
      "+-----------+\n",
      "|      10107|\n",
      "|      10121|\n",
      "|      10134|\n",
      "|      10145|\n",
      "|      10159|\n",
      "|      10168|\n",
      "|      10180|\n",
      "|      10188|\n",
      "|      10201|\n",
      "|      10211|\n",
      "|      10223|\n",
      "|      10237|\n",
      "|      10251|\n",
      "|      10263|\n",
      "|      10275|\n",
      "|      10285|\n",
      "|      10299|\n",
      "|      10309|\n",
      "|      10318|\n",
      "|      10329|\n",
      "+-----------+\n",
      "only showing top 20 rows\n",
      "\n"
     ]
    },
    {
     "name": "stderr",
     "output_type": "stream",
     "text": [
      "                                                                                \r"
     ]
    }
   ],
   "source": [
    "df.select('ORDERNUMBER').distinct().show()"
   ]
  },
  {
   "cell_type": "code",
   "execution_count": null,
   "metadata": {},
   "outputs": [],
   "source": []
  }
 ],
 "metadata": {
  "kernelspec": {
   "display_name": ".venv",
   "language": "python",
   "name": "python3"
  },
  "language_info": {
   "codemirror_mode": {
    "name": "ipython",
    "version": 3
   },
   "file_extension": ".py",
   "mimetype": "text/x-python",
   "name": "python",
   "nbconvert_exporter": "python",
   "pygments_lexer": "ipython3",
   "version": "3.9.21"
  }
 },
 "nbformat": 4,
 "nbformat_minor": 2
}
